{
 "cells": [
  {
   "cell_type": "code",
   "execution_count": 22,
   "metadata": {},
   "outputs": [
    {
     "name": "stdout",
     "output_type": "stream",
     "text": [
      "{'name': 'John Doe', 'age': 37, 'diagnosis': ['flu', 'common cold']}\n",
      "{'name': 'Marry Winter', 'age': 29, 'diagnosis': ['aids', 'malaria']}\n",
      "{'name': 'Michael Douglas', 'age': 62, 'diagnosis': ['lumbago', 'esophageal reflux']}\n"
     ]
    }
   ],
   "source": [
    "import asyncio\n",
    "import random\n",
    "\n",
    "async def fetch_data_from_ehr1(): # Simulate network delay\n",
    "    await asyncio.sleep(random.randint(1,5))\n",
    "    return {\"name\":\"John Doe\", \"age\":37, \"diagnosis\": [\"flu\", \"common cold\"]}\n",
    "\n",
    "async def fetch_data_from_ehr2(): \n",
    "    await asyncio.sleep(random.randint(1,5))\n",
    "    return {\"name\":\"Marry Winter\", \"age\":29, \"diagnosis\": [\"aids\", \"malaria\"]}\n",
    "\n",
    "async def fetch_data_from_ehr3(): \n",
    "    await asyncio.sleep(random.randint(1,5))\n",
    "    return {\"name\":\"Michael Douglas\", \"age\":62, \"diagnosis\": [\"lumbago\", \"esophageal reflux\"]}\n",
    "\n",
    "async def main():\n",
    "    try:\n",
    "        ehr1_data, ehr2_data, ehr3_data = await asyncio.gather(fetch_data_from_ehr1(),\n",
    "            fetch_data_from_ehr2(), fetch_data_from_ehr3())\n",
    "        ehr_list = [ehr1_data, ehr2_data, ehr3_data]\n",
    "        for ehr in ehr_list:\n",
    "            print(ehr)\n",
    "    except Exception as e:\n",
    "        print(f\"Error: {e}\")\n",
    "\n",
    "await (main())\n"
   ]
  }
 ],
 "metadata": {
  "interpreter": {
   "hash": "6b2ed07406f43fefe29d7e6a5344fe55f2939fdcf75c25060c3ecc711fe31b42"
  },
  "kernelspec": {
   "display_name": "Python 3.11.5 ('base')",
   "language": "python",
   "name": "python3"
  },
  "language_info": {
   "codemirror_mode": {
    "name": "ipython",
    "version": 3
   },
   "file_extension": ".py",
   "mimetype": "text/x-python",
   "name": "python",
   "nbconvert_exporter": "python",
   "pygments_lexer": "ipython3",
   "version": "3.11.5"
  },
  "orig_nbformat": 4
 },
 "nbformat": 4,
 "nbformat_minor": 2
}
